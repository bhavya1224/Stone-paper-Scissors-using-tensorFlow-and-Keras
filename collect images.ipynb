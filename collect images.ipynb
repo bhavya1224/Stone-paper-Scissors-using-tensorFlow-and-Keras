{
 "cells": [
  {
   "cell_type": "code",
   "execution_count": 10,
   "metadata": {},
   "outputs": [
    {
     "name": "stdout",
     "output_type": "stream",
     "text": [
      "Enter label name here: scissors1\n",
      "enter no.of images you want300\n",
      "\n",
      "300 image(s) saved to dataset\\scissors1\n"
     ]
    }
   ],
   "source": [
    "import cv2\n",
    "import os\n",
    "\n",
    "\n",
    "try:\n",
    "    label_name = input(\"Enter label name here: \")\n",
    "    num_samples = int(input(\"enter no.of images you want\"))\n",
    "except:\n",
    "    print(\"Arguments missing.\")\n",
    "    print(desc)\n",
    "    exit(-1)\n",
    "\n",
    "IMG_PATH = 'dataset'\n",
    "IMG_CLASS_PATH = os.path.join(IMG_PATH, label_name)\n",
    "\n",
    "try:\n",
    "    os.mkdir(IMG_PATH)\n",
    "except FileExistsError:\n",
    "    pass\n",
    "try:\n",
    "    os.mkdir(IMG_CLASS_PATH)\n",
    "except FileExistsError:\n",
    "    print(\"{} directory already exists.\".format(IMG_CLASS_PATH))\n",
    "    \n",
    "\n",
    "cap = cv2.VideoCapture(0)\n",
    "\n",
    "start = False\n",
    "count = 0\n",
    "\n",
    "while True:\n",
    "    ret, frame = cap.read()\n",
    "    if not ret:\n",
    "        continue\n",
    "\n",
    "    if count == num_samples:\n",
    "        break\n",
    "\n",
    "    cv2.rectangle(frame, (100, 100), (350, 350), (0, 0, 255), 2)\n",
    "\n",
    "    if start:\n",
    "        roi = frame[100:350, 100:350]\n",
    "        save_path = os.path.join(IMG_CLASS_PATH, '{}.jpg'.format(count + 1))\n",
    "        cv2.imwrite(save_path, roi)\n",
    "        count += 1\n",
    "\n",
    "    font = cv2.FONT_HERSHEY_DUPLEX\n",
    "    cv2.putText(frame, \"Collecting :{}\".format(count),\n",
    "            (5, 50), font, 1.5, (255, 0, 0), 2)\n",
    "    cv2.imshow(\"Collecting images\", frame)\n",
    "\n",
    "    k = cv2.waitKey(10)\n",
    "    if k == ord('c'):\n",
    "        start = not start\n",
    "\n",
    "    if k == ord('q'):\n",
    "        break\n",
    "\n",
    "print(\"\\n{} image(s) saved to {}\".format(count, IMG_CLASS_PATH))\n",
    "cap.release()\n",
    "cv2.destroyAllWindows()"
   ]
  },
  {
   "cell_type": "code",
   "execution_count": null,
   "metadata": {},
   "outputs": [],
   "source": []
  },
  {
   "cell_type": "code",
   "execution_count": null,
   "metadata": {},
   "outputs": [],
   "source": []
  }
 ],
 "metadata": {
  "kernelspec": {
   "display_name": "Python 3",
   "language": "python",
   "name": "python3"
  },
  "language_info": {
   "codemirror_mode": {
    "name": "ipython",
    "version": 3
   },
   "file_extension": ".py",
   "mimetype": "text/x-python",
   "name": "python",
   "nbconvert_exporter": "python",
   "pygments_lexer": "ipython3",
   "version": "3.6.10"
  }
 },
 "nbformat": 4,
 "nbformat_minor": 4
}
